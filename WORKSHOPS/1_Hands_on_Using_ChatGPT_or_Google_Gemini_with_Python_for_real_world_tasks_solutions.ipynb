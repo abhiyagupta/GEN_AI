{
  "nbformat": 4,
  "nbformat_minor": 0,
  "metadata": {
    "colab": {
      "provenance": []
    },
    "kernelspec": {
      "name": "python3",
      "display_name": "Python 3"
    },
    "language_info": {
      "name": "python"
    }
  },
  "cells": [
    {
      "cell_type": "markdown",
      "source": [
        "# Using ChatGPT or Google Gemini with Python for real-world tasks"
      ],
      "metadata": {
        "id": "fb6rdwlCsCGt"
      }
    },
    {
      "cell_type": "markdown",
      "source": [
        "In this notebook you will use the OpenAI's ChatGPT or Google Gemini to solve:\n",
        "\n",
        "- Exercise - 1: Review Analysis and Response\n",
        "- Exercise - 2: Paper Analysis and Summarization\n",
        "- Exercise 3 - Marketing Adverts for Smartphones\n",
        "- Exercise 4 - IT Support Resolution\n",
        "\n",
        "___[Created By: Dipanjan (DJ)](https://www.linkedin.com/in/dipanjans/)___"
      ],
      "metadata": {
        "id": "XTzBUFWQ-OWj"
      }
    },
    {
      "cell_type": "markdown",
      "source": [
        "## Install OpenAI dependencies"
      ],
      "metadata": {
        "id": "L1KvMtf54l0d"
      }
    },
    {
      "cell_type": "code",
      "source": [
        "!pip install openai"
      ],
      "metadata": {
        "id": "2evPp14fy258",
        "colab": {
          "base_uri": "https://localhost:8080/"
        },
        "outputId": "af9aaa65-2ba0-4c04-89cc-82e8c609470a"
      },
      "execution_count": null,
      "outputs": [
        {
          "output_type": "stream",
          "name": "stdout",
          "text": [
            "Collecting openai\n",
            "  Downloading openai-1.16.2-py3-none-any.whl (267 kB)\n",
            "\u001b[?25l     \u001b[90m━━━━━━━━━━━━━━━━━━━━━━━━━━━━━━━━━━━━━━━━\u001b[0m \u001b[32m0.0/267.1 kB\u001b[0m \u001b[31m?\u001b[0m eta \u001b[36m-:--:--\u001b[0m\r\u001b[2K     \u001b[91m━━━━━━━━━━━━━━━━━━━━━━━━━━━━━\u001b[0m\u001b[90m╺\u001b[0m\u001b[90m━━━━━━━━━━\u001b[0m \u001b[32m194.6/267.1 kB\u001b[0m \u001b[31m5.5 MB/s\u001b[0m eta \u001b[36m0:00:01\u001b[0m\r\u001b[2K     \u001b[90m━━━━━━━━━━━━━━━━━━━━━━━━━━━━━━━━━━━━━━━━\u001b[0m \u001b[32m267.1/267.1 kB\u001b[0m \u001b[31m4.9 MB/s\u001b[0m eta \u001b[36m0:00:00\u001b[0m\n",
            "\u001b[?25hRequirement already satisfied: anyio<5,>=3.5.0 in /usr/local/lib/python3.10/dist-packages (from openai) (3.7.1)\n",
            "Requirement already satisfied: distro<2,>=1.7.0 in /usr/lib/python3/dist-packages (from openai) (1.7.0)\n",
            "Collecting httpx<1,>=0.23.0 (from openai)\n",
            "  Downloading httpx-0.27.0-py3-none-any.whl (75 kB)\n",
            "\u001b[2K     \u001b[90m━━━━━━━━━━━━━━━━━━━━━━━━━━━━━━━━━━━━━━━━\u001b[0m \u001b[32m75.6/75.6 kB\u001b[0m \u001b[31m5.2 MB/s\u001b[0m eta \u001b[36m0:00:00\u001b[0m\n",
            "\u001b[?25hRequirement already satisfied: pydantic<3,>=1.9.0 in /usr/local/lib/python3.10/dist-packages (from openai) (2.6.4)\n",
            "Requirement already satisfied: sniffio in /usr/local/lib/python3.10/dist-packages (from openai) (1.3.1)\n",
            "Requirement already satisfied: tqdm>4 in /usr/local/lib/python3.10/dist-packages (from openai) (4.66.2)\n",
            "Requirement already satisfied: typing-extensions<5,>=4.7 in /usr/local/lib/python3.10/dist-packages (from openai) (4.10.0)\n",
            "Requirement already satisfied: idna>=2.8 in /usr/local/lib/python3.10/dist-packages (from anyio<5,>=3.5.0->openai) (3.6)\n",
            "Requirement already satisfied: exceptiongroup in /usr/local/lib/python3.10/dist-packages (from anyio<5,>=3.5.0->openai) (1.2.0)\n",
            "Requirement already satisfied: certifi in /usr/local/lib/python3.10/dist-packages (from httpx<1,>=0.23.0->openai) (2024.2.2)\n",
            "Collecting httpcore==1.* (from httpx<1,>=0.23.0->openai)\n",
            "  Downloading httpcore-1.0.5-py3-none-any.whl (77 kB)\n",
            "\u001b[2K     \u001b[90m━━━━━━━━━━━━━━━━━━━━━━━━━━━━━━━━━━━━━━━━\u001b[0m \u001b[32m77.9/77.9 kB\u001b[0m \u001b[31m5.4 MB/s\u001b[0m eta \u001b[36m0:00:00\u001b[0m\n",
            "\u001b[?25hCollecting h11<0.15,>=0.13 (from httpcore==1.*->httpx<1,>=0.23.0->openai)\n",
            "  Downloading h11-0.14.0-py3-none-any.whl (58 kB)\n",
            "\u001b[2K     \u001b[90m━━━━━━━━━━━━━━━━━━━━━━━━━━━━━━━━━━━━━━━━\u001b[0m \u001b[32m58.3/58.3 kB\u001b[0m \u001b[31m4.3 MB/s\u001b[0m eta \u001b[36m0:00:00\u001b[0m\n",
            "\u001b[?25hRequirement already satisfied: annotated-types>=0.4.0 in /usr/local/lib/python3.10/dist-packages (from pydantic<3,>=1.9.0->openai) (0.6.0)\n",
            "Requirement already satisfied: pydantic-core==2.16.3 in /usr/local/lib/python3.10/dist-packages (from pydantic<3,>=1.9.0->openai) (2.16.3)\n",
            "Installing collected packages: h11, httpcore, httpx, openai\n",
            "Successfully installed h11-0.14.0 httpcore-1.0.5 httpx-0.27.0 openai-1.16.2\n"
          ]
        }
      ]
    },
    {
      "cell_type": "markdown",
      "source": [
        "## Optional: Install Google Gemini\n",
        "\n",
        "Google Gemini API is free (till now). You can get a key [here](https://aistudio.google.com/app/apikey), just need to sign in with your google account. Gemini may not be available fully in EU."
      ],
      "metadata": {
        "id": "5N_Lly09l0P9"
      }
    },
    {
      "cell_type": "code",
      "source": [
        "pip install -q -U google-generativeai"
      ],
      "metadata": {
        "colab": {
          "base_uri": "https://localhost:8080/"
        },
        "id": "UKbTnx8pl8kt",
        "outputId": "401dea44-2d61-458c-d458-f624eab9d82f"
      },
      "execution_count": null,
      "outputs": [
        {
          "output_type": "stream",
          "name": "stdout",
          "text": [
            "\u001b[2K     \u001b[90m━━━━━━━━━━━━━━━━━━━━━━━━━━━━━━━━━━━━━━━━\u001b[0m \u001b[32m142.1/142.1 kB\u001b[0m \u001b[31m2.7 MB/s\u001b[0m eta \u001b[36m0:00:00\u001b[0m\n",
            "\u001b[2K     \u001b[90m━━━━━━━━━━━━━━━━━━━━━━━━━━━━━━━━━━━━━━━━\u001b[0m \u001b[32m663.6/663.6 kB\u001b[0m \u001b[31m9.7 MB/s\u001b[0m eta \u001b[36m0:00:00\u001b[0m\n",
            "\u001b[?25h"
          ]
        }
      ]
    },
    {
      "cell_type": "markdown",
      "source": [
        "## Load OpenAI API Credentials\n",
        "\n",
        "Here we load it from a file so we don't explore the credentials on the internet by mistake"
      ],
      "metadata": {
        "id": "CiwGjVWK4q6F"
      }
    },
    {
      "cell_type": "code",
      "source": [
        "import locale\n",
        "locale.getpreferredencoding = lambda: \"UTF-8\""
      ],
      "metadata": {
        "id": "5e1HqI56y7t3"
      },
      "execution_count": null,
      "outputs": []
    },
    {
      "cell_type": "code",
      "execution_count": null,
      "metadata": {
        "id": "ryheOZuXxa41"
      },
      "outputs": [],
      "source": [
        "import yaml\n",
        "\n",
        "with open('chatgpt_api_credentials.yml', 'r') as file:\n",
        "    api_creds = yaml.safe_load(file)"
      ]
    },
    {
      "cell_type": "code",
      "source": [
        "api_creds.keys()"
      ],
      "metadata": {
        "id": "eZs7ts6NzADJ",
        "colab": {
          "base_uri": "https://localhost:8080/"
        },
        "outputId": "0666edbd-108a-49e6-9699-1bc063403ec8"
      },
      "execution_count": null,
      "outputs": [
        {
          "output_type": "execute_result",
          "data": {
            "text/plain": [
              "dict_keys(['openai_key'])"
            ]
          },
          "metadata": {},
          "execution_count": 12
        }
      ]
    },
    {
      "cell_type": "code",
      "source": [
        "import openai\n",
        "from IPython.display import HTML\n",
        "\n",
        "openai.api_key = api_creds['openai_key']"
      ],
      "metadata": {
        "id": "kDe44J0N0NcC"
      },
      "execution_count": null,
      "outputs": []
    },
    {
      "cell_type": "markdown",
      "source": [
        "## Load Gemini API credentials\n",
        "\n",
        "Run this section only if you are using Google Gemini"
      ],
      "metadata": {
        "id": "LS7koM2emZ_M"
      }
    },
    {
      "cell_type": "code",
      "source": [
        "import google.generativeai as genai\n",
        "import yaml\n",
        "\n",
        "with open('gemini_key.yml', 'r') as file:\n",
        "    api_creds = yaml.safe_load(file)\n",
        "\n",
        "GOOGLE_API_KEY = api_creds['gemini_key']\n",
        "genai.configure(api_key=GOOGLE_API_KEY)"
      ],
      "metadata": {
        "id": "nxJAcO1MmhRo"
      },
      "execution_count": null,
      "outputs": []
    },
    {
      "cell_type": "markdown",
      "source": [
        "## Create ChatGPT and Google Gemini Chat Completion Access Function\n",
        "\n",
        "This function will use the [Chat Completion API](https://platform.openai.com/docs/api-reference/chat/create) to access ChatGPT for us and return responses\n",
        "\n",
        "We also add the capability to access the [Google Gemini API](https://ai.google.dev/tutorials/python_quickstart) if you want to use Gemini Pro instead of ChatGPT"
      ],
      "metadata": {
        "id": "VDWhgxCy5bA6"
      }
    },
    {
      "cell_type": "code",
      "source": [
        "def get_completion(prompt, model=\"gpt-3.5-turbo\"):\n",
        "  if model == \"gpt-3.5-turbo\":\n",
        "    messages = [{\"role\": \"user\", \"content\": prompt}]\n",
        "    response = openai.chat.completions.create(\n",
        "        model=model,\n",
        "        messages=messages,\n",
        "        temperature=0, # degree of randomness of the model's output\n",
        "    )\n",
        "    return response.choices[0].message.content\n",
        "  if model == 'gemini-pro':\n",
        "    model = genai.GenerativeModel('gemini-pro')\n",
        "    response = model.generate_content(prompt)\n",
        "    return response.text\n",
        "  else:\n",
        "    return \"LLM not configured! Please configure logic for specific model in get_completion()\""
      ],
      "metadata": {
        "id": "kA9gVCwK0WKd"
      },
      "execution_count": null,
      "outputs": []
    },
    {
      "cell_type": "markdown",
      "source": [
        "## Let's try out the ChatGPT API!"
      ],
      "metadata": {
        "id": "1TFZjzuGjCOw"
      }
    },
    {
      "cell_type": "code",
      "source": [
        "response = get_completion(prompt='Explain Generative AI in 2 bullet points')\n",
        "print(response)"
      ],
      "metadata": {
        "colab": {
          "base_uri": "https://localhost:8080/"
        },
        "id": "KK-kjmMoi5rO",
        "outputId": "586ee0b2-2967-49ec-83dc-55bfd321bbe3"
      },
      "execution_count": null,
      "outputs": [
        {
          "output_type": "stream",
          "name": "stdout",
          "text": [
            "- Generative AI is a type of artificial intelligence that is capable of creating new content, such as images, text, or music, based on patterns and data it has been trained on.\n",
            "- This technology can be used in a variety of applications, including creating realistic images for video games, generating personalized content for marketing campaigns, or even composing music or writing stories.\n"
          ]
        }
      ]
    },
    {
      "cell_type": "code",
      "source": [
        "# with Gemini\n",
        "response = get_completion(prompt='Explain Generative AI in 2 bullet points',\n",
        "                          model='gemini-pro')\n",
        "print(response)"
      ],
      "metadata": {
        "colab": {
          "base_uri": "https://localhost:8080/",
          "height": 106
        },
        "id": "VmnwGrskn_oz",
        "outputId": "528b39fd-0dbd-492b-cbf3-7459e46caba6"
      },
      "execution_count": null,
      "outputs": [
        {
          "output_type": "stream",
          "name": "stdout",
          "text": [
            "* **Generative AI** is a type of artificial intelligence that can create new data or content from scratch, such as generating text, images, music, or code.\n",
            "\n",
            "\n",
            "* Generative AI uses **machine learning** algorithms to learn the patterns and structures of existing data, and then uses this knowledge to generate new data that is similar to the original but not identical.\n"
          ]
        }
      ]
    },
    {
      "cell_type": "markdown",
      "source": [
        "## Exercise - 1: Review Analysis and Response\n",
        "\n",
        "For each review get ChatGPT to do the following:\n",
        "\n",
        "            - Summarize the following reviews below, delimited by triple\n",
        "            backticks. For each review, the summary should be at most 3 lines.\n",
        "            - Highlight both the positives and negatives for each review\n",
        "            - Display the overall sentiment for each review (positive, negative, neutral)\n",
        "            - Display a list of 3 - 5 emotions expressed by the customer\n",
        "            - If the sentiment is positive or neutral write an email and thank them for the review\n",
        "            - If the sentiment is negative apologize and write an email with an appropriate response"
      ],
      "metadata": {
        "id": "AeDkpvGDhMGV"
      }
    },
    {
      "cell_type": "code",
      "source": [
        "reviews = [\n",
        "    f\"\"\"\n",
        "    Just received the Bluetooth speaker I ordered for beach outings, and it's fantastic.\n",
        "    The sound quality is impressively clear with just the right amount of bass.\n",
        "    It's also waterproof, which tested true during a recent splashing incident.\n",
        "    Though it's compact, the volume can really fill the space.\n",
        "    The price was a bargain for such high-quality sound.\n",
        "    Shipping was also on point, arriving two days early in secure packaging.\n",
        "    \"\"\",\n",
        "    f\"\"\"\n",
        "    Purchased a new gaming keyboard because of its rave reviews about responsiveness and backlighting.\n",
        "    It hasn't disappointed. The keys have a satisfying click and the LED colors are vibrant,\n",
        "    enhancing my gaming experience significantly. Price-wise, it's quite competitive,\n",
        "    and I feel like I got a good deal. The delivery was swift, and it came well-protected,\n",
        "    ensuring no damage during transport.\n",
        "    \"\"\",\n",
        "    f\"\"\"\n",
        "    Ordered a set of wireless earbuds for running, and they've been a letdown.\n",
        "    The sound constantly cuts out, and the fit is uncomfortable after only a few minutes of use.\n",
        "    They advertised a 12-hour battery life, but I'm barely getting four hours.\n",
        "    Considering the cost, I expected better quality and performance.\n",
        "    They did arrive on time, but the positives end there. I'm already looking into a return.\n",
        "    \"\"\",\n",
        "    f\"\"\"\n",
        "    The tablet stand I bought was touted as being sturdy and adjustable,\n",
        "    but it's anything but. It wobbles with the slightest touch,\n",
        "    and the angles are not holding up as promised. It feels like a breeze could knock it over.\n",
        "    It was also pricier than others I've seen, which adds to the disappointment.\n",
        "    It did arrive promptly, but what's the use if the product doesn't meet basic expectations?\n",
        "    \"\"\",\n",
        "    f\"\"\"\n",
        "    Needed a new kitchen blender, but this model has been a nightmare.\n",
        "    It's supposed to handle various foods, but it struggles with anything tougher than cooked vegetables.\n",
        "    It's also incredibly noisy, and the 'easy-clean' feature is a joke; food gets stuck under the blades constantly.\n",
        "    I thought the brand meant quality, but this product has proven me wrong.\n",
        "    Plus, it arrived three days late. Definitely not worth the expense.\n",
        "    \"\"\"\n",
        "]"
      ],
      "metadata": {
        "id": "hRbBZB57hT0G"
      },
      "execution_count": null,
      "outputs": []
    },
    {
      "cell_type": "code",
      "source": [
        "responses = []\n",
        "\n",
        "for review in reviews:\n",
        "  prompt = f\"\"\"\n",
        "              Act as a product review analyst.\n",
        "              Your task is to perform the following tasks:\n",
        "\n",
        "              - Summarize the following review below, delimited by triple\n",
        "              backticks in at most 3 lines.\n",
        "              - Highlight both the positives and negatives for the review\n",
        "              - Display the overall sentiment for the review (positive, negative, neutral)\n",
        "              - Display a list of 3 - 5 emotions expressed by the customer\n",
        "              - If the sentiment is positive or neutral write an email and thank them for the review\n",
        "              - If the sentiment is negative apologize and write an email with an appropriate response\n",
        "\n",
        "              ```{review}```\n",
        "              \"\"\"\n",
        "  response = get_completion(prompt)\n",
        "  responses.append(response)"
      ],
      "metadata": {
        "id": "jZwPaViatl7f"
      },
      "execution_count": null,
      "outputs": []
    },
    {
      "cell_type": "code",
      "source": [
        "for response in responses:\n",
        "  print(response)\n",
        "  print('------')\n",
        "  print('\\n')"
      ],
      "metadata": {
        "id": "EdUFkKAmtmBj",
        "colab": {
          "base_uri": "https://localhost:8080/"
        },
        "outputId": "ca470900-4d84-4277-c651-64c4620bba87"
      },
      "execution_count": null,
      "outputs": [
        {
          "output_type": "stream",
          "name": "stdout",
          "text": [
            "- Positive: Fantastic sound quality, waterproof, compact yet powerful volume, bargain price, early shipping\n",
            "- Negative: None mentioned\n",
            "- Overall sentiment: Positive\n",
            "- Emotions: Satisfaction, excitement, gratitude\n",
            "\n",
            "Dear [Customer],\n",
            "\n",
            "Thank you so much for your positive review of the Bluetooth speaker you purchased for beach outings! We are thrilled to hear that you are enjoying the fantastic sound quality, waterproof feature, and compact yet powerful volume. We are also glad that the shipping was on point and arrived early. Your satisfaction is our top priority, and we look forward to serving you again in the future.\n",
            "\n",
            "Warm regards,\n",
            "[Your Name]\n",
            "------\n",
            "\n",
            "\n",
            "- Positive: Responsive keys, vibrant LED colors, competitive price, swift delivery, well-protected packaging.\n",
            "- Negative: None mentioned.\n",
            "- Overall sentiment: Positive\n",
            "- Emotions: Satisfaction, excitement, gratitude\n",
            "\n",
            "Dear [Customer],\n",
            "\n",
            "Thank you for taking the time to leave such a positive review about your new gaming keyboard! We are thrilled to hear that it has enhanced your gaming experience significantly with its responsive keys and vibrant LED colors. We are also glad to know that you found the price competitive and that the delivery was swift and well-protected. Your satisfaction is our top priority, and we are delighted that you are happy with your purchase.\n",
            "\n",
            "Thank you once again for choosing our product.\n",
            "\n",
            "Best regards,\n",
            "[Your Name]\n",
            "------\n",
            "\n",
            "\n",
            "- Positives: Earbuds arrived on time.\n",
            "- Negatives: Sound cuts out, uncomfortable fit, short battery life, poor quality.\n",
            "- Overall sentiment: Negative\n",
            "- Emotions: Disappointment, frustration, dissatisfaction\n",
            "\n",
            "Dear customer,\n",
            "\n",
            "Thank you for taking the time to leave a review regarding your recent purchase of our wireless earbuds. We are truly sorry to hear about the issues you have experienced with the sound quality, fit, and battery life of the earbuds. Your feedback is valuable to us, and we apologize for any inconvenience this may have caused. Please reach out to our customer service team for assistance with a return or exchange.\n",
            "\n",
            "Sincerely,\n",
            "[Your Name]\n",
            "Customer Service Team\n",
            "------\n",
            "\n",
            "\n",
            "- Review: The tablet stand is not as sturdy and adjustable as advertised, wobbling easily and not holding angles well. It is also pricier than expected.\n",
            "- Positives: Prompt delivery.\n",
            "- Negatives: Lack of sturdiness, poor adjustability, higher price.\n",
            "- Overall sentiment: Negative\n",
            "- Emotions: Disappointment, frustration, dissatisfaction\n",
            "\n",
            "Dear Customer,\n",
            "\n",
            "Thank you for taking the time to review the tablet stand you purchased. We apologize for the inconvenience and disappointment you experienced with the product. Your feedback is valuable to us, and we will work on improving the quality and functionality of our products. Please feel free to reach out to our customer service team for further assistance.\n",
            "\n",
            "Sincerely,\n",
            "[Your Name]\n",
            "------\n",
            "\n",
            "\n",
            "- Review: The kitchen blender is a nightmare, struggles with tough foods, noisy, difficult to clean, arrived late.\n",
            "- Positives: None mentioned.\n",
            "- Negatives: Struggles with tough foods, noisy, difficult to clean, late delivery.\n",
            "- Overall sentiment: Negative\n",
            "- Emotions: Frustration, disappointment, annoyance\n",
            "\n",
            "Dear Customer,\n",
            "\n",
            "Thank you for taking the time to share your feedback on the kitchen blender. We apologize for the inconvenience you have experienced with the product. Your feedback is valuable to us, and we will work on improving our products and services to meet your expectations in the future.\n",
            "\n",
            "Sincerely,\n",
            "[Your Name]\n",
            "------\n",
            "\n",
            "\n"
          ]
        }
      ]
    },
    {
      "cell_type": "code",
      "source": [
        "# Trying with Gemini\n",
        "\n",
        "responses = []\n",
        "\n",
        "for review in reviews:\n",
        "  prompt = f\"\"\"\n",
        "              Act as a product review analyst.\n",
        "              Your task is to perform the following tasks:\n",
        "\n",
        "              - Summarize the following review below, delimited by triple\n",
        "              backticks in at most 3 lines.\n",
        "              - Highlight both the positives and negatives for the review\n",
        "              - Display the overall sentiment for the review (positive, negative, neutral)\n",
        "              - Display a list of 3 - 5 emotions expressed by the customer\n",
        "              - If the sentiment is positive or neutral write an email and thank them for the review\n",
        "              - If the sentiment is negative apologize and write an email with an appropriate response\n",
        "\n",
        "              ```{review}```\n",
        "              \"\"\"\n",
        "  response = get_completion(prompt, model='gemini-pro')\n",
        "  responses.append(response)"
      ],
      "metadata": {
        "id": "kQZdygfUoXGT"
      },
      "execution_count": null,
      "outputs": []
    },
    {
      "cell_type": "code",
      "source": [
        "for response in responses:\n",
        "  print(response)\n",
        "  print('------')\n",
        "  print('\\n')"
      ],
      "metadata": {
        "colab": {
          "base_uri": "https://localhost:8080/"
        },
        "id": "OCsMzs3QodqR",
        "outputId": "a87f1cb9-6969-4e7e-aad3-d1f5493af273"
      },
      "execution_count": null,
      "outputs": [
        {
          "output_type": "stream",
          "name": "stdout",
          "text": [
            "### Review Summary\n",
            "\n",
            "**Positives:**\n",
            "\n",
            "- Excellent sound quality\n",
            "- Waterproof design\n",
            "- Compact size with impressive volume\n",
            "- Affordable price\n",
            "- Fast and secure shipping\n",
            "\n",
            "**Negatives:**\n",
            "\n",
            "- None mentioned\n",
            "\n",
            "### Overall Sentiment\n",
            "\n",
            "Positive\n",
            "\n",
            "### Emotions Expressed by the Customer\n",
            "\n",
            "- Joy\n",
            "- Satisfaction\n",
            "- Surprise\n",
            "- Contentment\n",
            "- Appreciation\n",
            "\n",
            "### Email Response to Customer\n",
            "\n",
            "Dear [Customer Name],\n",
            "\n",
            "Thank you so much for taking the time to leave us such a glowing review! We're thrilled that you love your new Bluetooth speaker and that it's exceeding your expectations. We appreciate your feedback and will continue striving to provide top-notch products and services. Your satisfaction is our priority.\n",
            "\n",
            "Sincerely,\n",
            "[Your Company Name]\n",
            "------\n",
            "\n",
            "\n",
            "***\n",
            "**Summary:** The customer is extremely satisfied with their new gaming keyboard, praising its responsiveness, backlighting, competitive pricing, swift delivery, and protective packaging.\n",
            "\n",
            "**Positives:**\n",
            "- Responsive keys\n",
            "- Vibrant LED colors\n",
            "- Competitive price\n",
            "- Swift delivery\n",
            "- Well-protected packaging\n",
            "\n",
            "**Negatives:**\n",
            "- None mentioned\n",
            "\n",
            "**Overall Sentiment:** Positive\n",
            "\n",
            "**Emotions Expressed:**\n",
            "- Satisfied\n",
            "- Excited\n",
            "- Thrilled\n",
            "- Contented\n",
            "- Pleased\n",
            "***\n",
            "\n",
            "**Email for Positive/Neutral Reviews:**\n",
            "\n",
            "Dear [Customer Name],\n",
            "\n",
            "Thank you for taking the time to share your positive feedback on our gaming keyboard. Your review means a lot to us, and we're thrilled to know that you're enjoying the enhanced gaming experience it provides. We're glad that our efforts to deliver quality products and exceptional service have met your expectations. Thank you for choosing our product.\n",
            "\n",
            "**Email for Negative Reviews:**\n",
            "\n",
            "Dear [Customer Name],\n",
            "\n",
            "We're sincerely sorry to hear that you've experienced issues with our gaming keyboard. We take all feedback seriously and value your input. We're committed to resolving your concerns and ensuring your satisfaction. We have forwarded your review to our technical team, who will investigate the issue and get back to you shortly. Thank you for your patience and understanding.\n",
            "------\n",
            "\n",
            "\n",
            "**Review Summary:**\n",
            "\n",
            "The customer ordered wireless earbuds but experienced poor performance with sound cutouts, uncomfortable fit, and shorter battery life than advertised. They are considering a return.\n",
            "\n",
            "**Positives:**\n",
            "\n",
            "* Arrived on time\n",
            "\n",
            "**Negatives:**\n",
            "\n",
            "* Inconsistent sound quality\n",
            "* Uncomfortable fit\n",
            "* Battery life significantly shorter than advertised\n",
            "\n",
            "**Overall Sentiment:**\n",
            "\n",
            "**Negative**\n",
            "\n",
            "**Emotions Expressed:**\n",
            "\n",
            "* Disappointment\n",
            "* Frustration\n",
            "* Resentment\n",
            "\n",
            "```\n",
            "Dear [Customer Name],\n",
            "\n",
            "We received your feedback about your recent purchase of wireless earbuds, and we apologize for the negative experience you had.\n",
            "\n",
            "We understand your disappointment with the sound cutouts, uncomfortable fit, and short battery life. We value customer satisfaction and strive to provide high-quality products.\n",
            "\n",
            "We have escalated your feedback to our engineering team to investigate and address these issues. We would like to offer you a full refund or a replacement pair of earbuds once the issue has been resolved.\n",
            "\n",
            "Thank you for bringing this to our attention. Your feedback helps us improve our products and services.\n",
            "\n",
            "Sincerely,\n",
            "[Your Company Name]\n",
            "```\n",
            "------\n",
            "\n",
            "\n",
            "**Summary:**\n",
            "\n",
            "The tablet stand fails to live up to its promises of sturdiness and adjustability, wobbling easily and failing to hold up angles. Despite its prompt delivery, the high price and poor performance leave the reviewer highly disappointed.\n",
            "\n",
            "**Positives:**\n",
            "\n",
            "* Prompt delivery\n",
            "\n",
            "**Negatives:**\n",
            "\n",
            "* Wobbling and unstable\n",
            "* Angles not holding as promised\n",
            "* Expensive compared to other options\n",
            "\n",
            "**Overall Sentiment:**\n",
            "\n",
            "Negative\n",
            "\n",
            "**Emotions Expressed:**\n",
            "\n",
            "* Disappointment\n",
            "* Frustration\n",
            "* Anger\n",
            "\n",
            "**Thank You Email (For Positive or Neutral Reviews):**\n",
            "\n",
            "Dear [Customer Name],\n",
            "\n",
            "Thank you for taking the time to leave a review of our product. We're so glad to hear that you're enjoying it! We appreciate your feedback and will continue to strive to provide our customers with the best possible products and service.\n",
            "\n",
            "**Apology Email (For Negative Reviews):**\n",
            "\n",
            "Dear [Customer Name],\n",
            "\n",
            "We are very sorry to hear that you are not satisfied with our product. We understand your frustration and disappointment. We value your feedback and will use it to improve our products and services moving forward.\n",
            "------\n",
            "\n",
            "\n",
            "**Summary:**\n",
            "\n",
            "Customer dissatisfied with blender due to poor performance, noise, cleaning difficulties, and delayed delivery.\n",
            "\n",
            "**Positives:**\n",
            "\n",
            "* None explicitly stated.\n",
            "\n",
            "**Negatives:**\n",
            "\n",
            "* Struggles with tough foods\n",
            "* Noisy\n",
            "* Difficult to clean\n",
            "* Arrived late\n",
            "* Not worth the expense\n",
            "\n",
            "**Overall Sentiment:**\n",
            "\n",
            "Negative\n",
            "\n",
            "**Emotions Expressed:**\n",
            "\n",
            "* Frustration\n",
            "* Disappointment\n",
            "* Anger\n",
            "\n",
            "**Email Response (due to negative sentiment):**\n",
            "\n",
            "Dear [Customer Name],\n",
            "\n",
            "We are deeply sorry to hear about your unsatisfactory experience with our kitchen blender. We sincerely apologize for the inconvenience and frustration you have experienced.\n",
            "\n",
            "We understand your concerns regarding the blender's performance, cleaning difficulties, and delayed delivery. We take all feedback seriously and will use it to improve our products and services.\n",
            "\n",
            "We would like to offer you a full refund for the blender. We also invite you to contact our customer support team to discuss any further concerns or questions.\n",
            "\n",
            "Thank you for bringing this matter to our attention. We value your feedback and are committed to listening to our customers.\n",
            "\n",
            "Sincerely,\n",
            "[Company Name]\n",
            "------\n",
            "\n",
            "\n"
          ]
        }
      ]
    },
    {
      "cell_type": "markdown",
      "source": [
        "## Exercise - 2: Paper Analysis and Summarization\n",
        "\n",
        "- Act as a Artificial Intelligence Expert.\n",
        "Transform this research paper abstract in triple backticks\n",
        "into a short concise version of maximum 10 lines for your audience.\n",
        "\n",
        "- Act as a Artificial Intelligence Expert.\n",
        "Transform this research paper abstract in triple backticks\n",
        "into an executive summary for a healthcare company.\n",
        "Have bullet points for pros and cons of ethics in Generative AI as mentioned in the paper.\n",
        "\n",
        "- Act as a Artificial Intelligence Expert.\n",
        "Transform this research paper abstract in triple backticks\n",
        "into an executive summary for a generative AI company solving healthcare problems.\n",
        "Have bullet points for key points mentioned for\n",
        "Generative AI for text, images and structured data based healthcare"
      ],
      "metadata": {
        "id": "eEtB1IOimA0i"
      }
    },
    {
      "cell_type": "code",
      "source": [
        "paper_abstract = f\"\"\"\n",
        "The widespread use of ChatGPT and other emerging technology powered by generative\n",
        "artificial intelligence (AI) has drawn much attention to potential ethical issues, especially in\n",
        "high-stakes applications such as healthcare.1–3 However, less clear is how to resolve such\n",
        "issues beyond following guidelines and regulations that are still under discussion and\n",
        "development. On the other hand, other types of generative AI have been used to synthesize\n",
        "images and other types of data for research and practical purposes, which have resolved some\n",
        "ethical issues and exposed other ethical issues,4,5 but such technology is less often the focus\n",
        "of ongoing ethical discussions. Here we highlight gaps in current ethical discussions of\n",
        "generative AI via a systematic scoping review of relevant existing research in healthcare, and\n",
        "reduce the gaps by proposing an ethics checklist for comprehensive assessment and\n",
        "transparent documentation of ethical discussions in generative AI development. While the\n",
        "checklist can be readily integrated into the current peer review and publication system to\n",
        "enhance generative AI research, it may also be used in broader settings to disclose ethicsrelated considerations in generative AI-powered products (or real-life applications of such\n",
        "products) to help users establish reasonable trust in their capabilities.\n",
        "\n",
        "Current ethical discussions on generative AI in healthcare\n",
        "We conducted a systematic scoping review to analyse current ethical discussions on\n",
        "generative AI in healthcare. Our search in four major academic research databases for\n",
        "relevant publications from January 2013 to July 2023 yielded 2859 articles (see Methods for\n",
        "detailed search strategy and Supplementary Figure S1 for the PRISMA flow diagram), of\n",
        "which 193 articles were included for analysis based on application data modality (text, image,\n",
        "or structured data), ethical issues discussed, generative AI involved, and whether generative\n",
        "AI causes or offers technical solutions for issues raised.\n",
        "\n",
        "Generative AI for text data-based healthcare\n",
        "Forty-one of the 193 articles discussed ethical considerations pertaining to generative AI\n",
        "applications for text data, with 20 articles describing methodological developments or\n",
        "applications of generative AI and the other 21 articles describing review-type works on this\n",
        "topic. Although some of these review-type articles used the general term “generative AI”, the\n",
        "main body and supporting evidence focused on LLMs. Twenty-nine articles had in-depth\n",
        "discussions on ethical issues, whereas the other 12 articles only briefly touched on some\n",
        "ethical aspects.\n",
        "Among the 41 articles, 29 articles focused on discussing ethical issues caused by LLMs (and\n",
        "specifically by GPT in 16 of the articles), covering a wide range of application scenarios and\n",
        "considered the application of all 10 ethical principles identified in the review (see Figure 1),\n",
        "as well as other less discussed concerns such as human-AI interaction, and the rights of\n",
        "LLMs to be considered as co-authors in scientific papers. One paper only commented briefly\n",
        "on the need for ethical considerations in LLMs and is summarised in the “Others” category.\n",
        "Although all ethical principles are equally important, some are discussed more often than\n",
        "others, e.g., non-maleficence (also referred to in the literature as ‘benevolence’), equity, and\n",
        "privacy.\n",
        "Fifteen of the 41 articles aimed to resolve some existing ethical issues (for example,\n",
        "confidentiality of medical data) by using LLMs and other generative AI (e.g., GAN,\n",
        "autoencoder or diffusion), such as, to reduce privacy concerns by generating synthetic\n",
        "medical text, to reduce disparity by providing accessible services and assistance, to detect\n",
        "health-related misinformation, to generate trusted content, and to improve accountability or\n",
        "transparency over existing approaches. While most articles focused on either identifying\n",
        "ethical issues caused by generative AI or proposing generative AI-based solutions, three\n",
        "articles discussed both to provide a more balanced perspective.\n",
        "\n",
        "Generative AI for image and structured data-based healthcare\n",
        "Unlike the diverse application scenarios of generative AI based on text data, for image and\n",
        "structured data, this use of generative AI focuses on data synthesis and encryption. Hence the\n",
        "majority of articles discussed the methodological developments of generative AI as giving\n",
        "rise to a more distinctive and focused set of ethical issues.\n",
        "5\n",
        "Notably, of the 98 articles on image data and 58 articles on structured data, more than half\n",
        "(n=63 for image data and n=33 for structured data) only mentioned ethical considerations as a\n",
        "brief motivation for methodological developments or as a general discussion point. The rest\n",
        "included more in-depth discussions or evaluations of ethical issues. Among these 155 articles\n",
        "(as one article covered multiple modalities), 11 articles were review-type work, where 10\n",
        "articles reviewed methods that mentioned one or two ethical perspectives, and only one\n",
        "article24 discussed detailed ethical concerns on generative AI applications.\n",
        "Resolving privacy issues was the main aim of articles for these two data modalities (n=74 for\n",
        "image data and n=50 for structured data; see Figure 1), predominantly by generating synthetic\n",
        "data using GAN. Eight articles on image data and 9 articles on structured data used\n",
        "generative AI to reduce bias, e.g., by synthesizing data for under-represented subgroups in\n",
        "existing databases. For both data modalities, we did not see explicit discussions on resolving\n",
        "autonomy, integrity, or morality issues using generative AI, and for structured data the articles\n",
        "additionally lacked discussions on trust or transparency.\n",
        "Only 11 articles for image data selectively discussed some ethical issues that generative AI\n",
        "can give rise to, without specific discussions regarding autonomy, integrity, or morality. For\n",
        "structured data, only 4 articles discussed equity, privacy, or data security issues caused by\n",
        "generative AI. Only two articles on structured data included both the cause and resolving\n",
        "perspectives by discussing ethical issues that may arise from limitations of methods\n",
        "proposed, specifically bias induced when synthesizing data in order to resolve privacy issues.\n",
        "\"\"\""
      ],
      "metadata": {
        "id": "4FnITE6zhV-9"
      },
      "execution_count": null,
      "outputs": []
    },
    {
      "cell_type": "code",
      "source": [
        "prompt = f\"\"\"\n",
        "Act as a Artificial Intelligence Expert.\n",
        "Transform this research paper abstract in triple backticks\n",
        "into a short concise version of maximum 10 lines for your audience.\n",
        "\n",
        "\n",
        "Abstract:\n",
        "```{paper_abstract}```\n",
        "\"\"\"\n",
        "response = get_completion(prompt)\n",
        "response"
      ],
      "metadata": {
        "id": "6V8bj9PytnwH",
        "colab": {
          "base_uri": "https://localhost:8080/",
          "height": 122
        },
        "outputId": "0240a27a-3e17-4794-c808-d7c7f6ecca44"
      },
      "execution_count": null,
      "outputs": [
        {
          "output_type": "execute_result",
          "data": {
            "text/plain": [
              "'Generative AI, like ChatGPT, raises ethical concerns in healthcare. Current discussions focus on guidelines and regulations, but gaps exist. A systematic review highlights ethical issues and proposes an ethics checklist for generative AI development. In healthcare, text data applications often discuss ethical considerations, with some focusing on resolving existing issues. Image and structured data applications mainly aim to synthesize data and address privacy concerns. While some articles propose solutions, others only mention ethical considerations briefly. Overall, there is a need for more in-depth discussions on ethical issues in generative AI applications across different data modalities.'"
            ],
            "application/vnd.google.colaboratory.intrinsic+json": {
              "type": "string"
            }
          },
          "metadata": {},
          "execution_count": 24
        }
      ]
    },
    {
      "cell_type": "code",
      "source": [
        "prompt = f\"\"\"\n",
        "Act as a Artificial Intelligence Expert.\n",
        "Transform this research paper abstract in triple backticks\n",
        "into an executive summary for a healthcare company.\n",
        "Have bullet points for pros and cons of ethics in Generative AI as mentioned in the paper.\n",
        "\n",
        "\n",
        "Abstract:\n",
        "```{paper_abstract}```\n",
        "\"\"\"\n",
        "response = get_completion(prompt)\n",
        "print(response)"
      ],
      "metadata": {
        "id": "VoOtVYKttn1d",
        "colab": {
          "base_uri": "https://localhost:8080/"
        },
        "outputId": "6bfdfed7-6979-40cb-d994-0fe3b852a008"
      },
      "execution_count": null,
      "outputs": [
        {
          "output_type": "stream",
          "name": "stdout",
          "text": [
            "Executive Summary:\n",
            "\n",
            "The use of generative artificial intelligence (AI) in healthcare, particularly in high-stakes applications, has raised ethical concerns that need to be addressed. This paper highlights the gaps in current ethical discussions surrounding generative AI and proposes an ethics checklist for comprehensive assessment and transparent documentation.\n",
            "\n",
            "Pros of Ethics in Generative AI:\n",
            "- Resolving ethical issues such as confidentiality of medical data\n",
            "- Reducing privacy concerns by generating synthetic medical text\n",
            "- Providing accessible services and assistance to reduce disparity\n",
            "- Detecting health-related misinformation\n",
            "- Improving accountability and transparency over existing approaches\n",
            "\n",
            "Cons of Ethics in Generative AI:\n",
            "- Lack of in-depth discussions on resolving autonomy, integrity, or morality issues\n",
            "- Limited focus on trust and transparency in structured data applications\n",
            "- Potential bias induced when synthesizing data to resolve privacy issues\n",
            "- Insufficient consideration of ethical issues in image and structured data-based healthcare applications\n",
            "\n",
            "Overall, integrating ethical considerations into generative AI development can enhance research and help establish trust in the capabilities of AI-powered products in healthcare settings.\n"
          ]
        }
      ]
    },
    {
      "cell_type": "code",
      "source": [
        "prompt = f\"\"\"\n",
        "Act as a Artificial Intelligence Expert.\n",
        "Transform this research paper abstract in triple backticks\n",
        "into an executive summary for a generative AI company solving healthcare problems.\n",
        "Have bullet points for key points mentioned for\n",
        "Generative AI for text, images and structured data based healthcare\n",
        "\n",
        "\n",
        "Abstract:\n",
        "```{paper_abstract}```\n",
        "\"\"\"\n",
        "response = get_completion(prompt)\n",
        "print(response)"
      ],
      "metadata": {
        "colab": {
          "base_uri": "https://localhost:8080/"
        },
        "id": "uLB_1U-mm345",
        "outputId": "7ae27351-a991-4941-cc23-f08a578301a5"
      },
      "execution_count": null,
      "outputs": [
        {
          "output_type": "stream",
          "name": "stdout",
          "text": [
            "\n",
            "Executive Summary:\n",
            "\n",
            "Key Points for Generative AI for Text, Images, and Structured Data Based Healthcare:\n",
            "\n",
            "- Generative AI, such as ChatGPT, is raising ethical concerns in high-stakes applications like healthcare.\n",
            "- Current ethical discussions in healthcare highlight gaps in addressing ethical issues related to generative AI.\n",
            "- A systematic scoping review of 2859 articles identified ethical considerations in generative AI applications for text, image, and structured data in healthcare.\n",
            "- Ethical issues discussed include non-maleficence, equity, privacy, human-AI interaction, and rights of AI models.\n",
            "- Generative AI is used to resolve ethical issues like confidentiality, privacy concerns, health misinformation, and improving accountability in healthcare.\n",
            "- Image and structured data-based generative AI focus on data synthesis and encryption, with privacy being a key concern.\n",
            "- Synthetic data generation using GANs is used to address privacy and bias issues in image and structured data.\n",
            "- Limited discussions on autonomy, integrity, morality, trust, and transparency in generative AI applications for image and structured data in healthcare.\n",
            "\n",
            "Generative AI for text, images, and structured data offers promising solutions for addressing ethical issues in healthcare, but there is a need for comprehensive assessment and transparent documentation of ethical considerations. By integrating an ethics checklist into generative AI research and product development, healthcare providers can build trust in the capabilities of AI-powered solutions.\n"
          ]
        }
      ]
    },
    {
      "cell_type": "markdown",
      "source": [
        "## Exercise 3 - Marketing Adverts for Smartphone\n",
        "\n",
        "You have the technical fact sheets of one smartphone. Try some iterative prompt engineering and do the following:\n",
        "\n",
        "1. Generate marketing product description for the smartphone\n",
        "\n",
        "2. Custom product description which has the following:\n",
        "\n",
        "```\n",
        "The description should follow this format:\n",
        "\n",
        "Product Name: <Name of the smartphone>\n",
        "​\n",
        "Description: <Brief Overview of the features>\n",
        "​\n",
        "Product Specifications:\n",
        "<Table with key product feature specifications>\n",
        "​\n",
        "The description should focus on the most important features\n",
        "a customer might look for in a phone including the foldable display screen,\n",
        "processing power, RAM, camera and battery life.\n",
        "​\n",
        "After the description, the table should have the\n",
        "key specifications of the product. It should have two columns.\n",
        "The first column should have 'Feature'\n",
        "and the second column should have 'Specification'\n",
        "and try to put exact numeric values for features if they exist.\n",
        "Only put the most important features in the table which matter to users.\n",
        "```\n",
        "\n",
        "3. Custom product description focusing on specific aspects like display, camera and in less than 60 words"
      ],
      "metadata": {
        "id": "NIo7i6vNmRJO"
      }
    },
    {
      "cell_type": "code",
      "source": [
        "fact_sheet_mobile = \"\"\"\n",
        "PRODUCT NAME\n",
        "Samsung Galaxy Z Fold4 5G Black\n",
        "​\n",
        "PRODUCT OVERVIEW\n",
        "Stands out. Stands up. Unfolds.\n",
        "The Galaxy Z Fold4 does a lot in one hand with its 15.73 cm(6.2-inch) Cover Screen.\n",
        "Unfolded, the 19.21 cm(7.6-inch) Main Screen lets you really get into the zone.\n",
        "Pushed-back bezels and the Under Display Camera means there's more screen\n",
        "and no black dot getting between you and the breathtaking Infinity Flex Display.\n",
        "Do more than more with Multi View. Whether toggling between texts or catching up\n",
        "on emails, take full advantage of the expansive Main Screen with Multi View.\n",
        "PC-like power thanks to Qualcomm Snapdragon 8+ Gen 1 processor in your pocket,\n",
        "transforms apps optimized with One UI to give you menus and more in a glance\n",
        "New Taskbar for PC-like multitasking. Wipe out tasks in fewer taps. Add\n",
        "apps to the Taskbar for quick navigation and bouncing between windows when\n",
        "you're in the groove.4 And with App Pair, one tap launches up to three apps,\n",
        "all sharing one super-productive screen\n",
        "Our toughest Samsung Galaxy foldables ever. From the inside out,\n",
        "Galaxy Z Fold4 is made with materials that are not only stunning,\n",
        "but stand up to life's bumps and fumbles. The front and rear panels,\n",
        "made with exclusive Corning Gorilla Glass Victus+, are ready to resist\n",
        "sneaky scrapes and scratches. With our toughest aluminum frame made with\n",
        "Armor Aluminum, this is one durable smartphone.\n",
        "World’s first water resistant foldable smartphones. Be adventurous, rain\n",
        "or shine. You don't have to sweat the forecast when you've got one of the\n",
        "world's first water-resistant foldable smartphones.\n",
        "​\n",
        "PRODUCT SPECS\n",
        "OS - Android 12.0\n",
        "RAM - 12 GB\n",
        "Product Dimensions - 15.5 x 13 x 0.6 cm; 263 Grams\n",
        "Batteries - 2 Lithium Ion batteries required. (included)\n",
        "Item model number - SM-F936BZKDINU_5\n",
        "Wireless communication technologies - Cellular\n",
        "Connectivity technologies - Bluetooth, Wi-Fi, USB, NFC\n",
        "GPS - True\n",
        "Special features - Fast Charging Support, Dual SIM, Wireless Charging, Built-In GPS, Water Resistant\n",
        "Other display features - Wireless\n",
        "Device interface - primary - Touchscreen\n",
        "Resolution - 2176x1812\n",
        "Other camera features - Rear, Front\n",
        "Form factor - Foldable Screen\n",
        "Colour - Phantom Black\n",
        "Battery Power Rating - 4400\n",
        "Whats in the box - SIM Tray Ejector, USB Cable\n",
        "Manufacturer - Samsung India pvt Ltd\n",
        "Country of Origin - China\n",
        "Item Weight - 263 g\n",
        "\"\"\""
      ],
      "metadata": {
        "id": "1F5spdPWmWrr"
      },
      "execution_count": null,
      "outputs": []
    },
    {
      "cell_type": "code",
      "source": [
        "prompt = f\"\"\"\n",
        "Act as a marketing manager.\n",
        "Your task is to help a marketing team create a\n",
        "description for a retail website advert of a product based\n",
        "on a technical fact sheet specifications for a mobile smartphone\n",
        "in triple backticks.\n",
        "​\n",
        "Write a brief product description\n",
        "\n",
        "Technical specifications:\n",
        "```{fact_sheet_mobile}```\n",
        "\"\"\"\n",
        "response = get_completion(prompt)\n",
        "print(response)"
      ],
      "metadata": {
        "id": "QXsNT5cptrE0",
        "colab": {
          "base_uri": "https://localhost:8080/"
        },
        "outputId": "7f317139-e0ad-40d0-b97e-aed8e26ac766"
      },
      "execution_count": null,
      "outputs": [
        {
          "output_type": "stream",
          "name": "stdout",
          "text": [
            "Introducing the Samsung Galaxy Z Fold4 5G Black - the ultimate smartphone that stands out, stands up, and unfolds to reveal a world of possibilities. With a stunning 6.2-inch Cover Screen and a massive 7.6-inch Main Screen, you can truly immerse yourself in your favorite content like never before.\n",
            "\n",
            "Powered by the Qualcomm Snapdragon 8+ Gen 1 processor and 12GB of RAM, this smartphone offers PC-like power in the palm of your hand. The new Taskbar feature allows for seamless multitasking, while the App Pair function lets you launch up to three apps simultaneously on one screen.\n",
            "\n",
            "But that's not all - the Galaxy Z Fold4 is our toughest foldable smartphone yet, featuring Corning Gorilla Glass Victus+ panels and an Armor Aluminum frame for durability you can rely on. Plus, it's the world's first water-resistant foldable smartphone, so you can take it with you wherever you go, rain or shine.\n",
            "\n",
            "Experience the future of smartphones with the Samsung Galaxy Z Fold4 5G Black. Get yours today and unfold a new world of possibilities.\n"
          ]
        }
      ]
    },
    {
      "cell_type": "code",
      "source": [
        "prompt = f\"\"\"\n",
        "Act as a marketing manager.\n",
        "Your task is to help a marketing team create a\n",
        "description for a retail website advert of a product based\n",
        "on a technical fact sheet specifications for a mobile smartphone\n",
        "in triple backticks.\n",
        "​\n",
        "Write a brief product description.\n",
        "\n",
        "The description should follow this format:\n",
        "\n",
        "Product Name: <Name of the smartphone>\n",
        "​\n",
        "Description: <Brief Overview of the features>\n",
        "​\n",
        "Product Specifications:\n",
        "<Table with key product feature specifications>\n",
        "​\n",
        "The description should only focus on the most important features\n",
        "a customer might look for in a phone including the foldable display screen,\n",
        "processing power, RAM, camera and battery life.\n",
        "​\n",
        "After the description, the table should have the\n",
        "key specifications of the product. It should have two columns.\n",
        "The first column should have 'Feature'\n",
        "and the second column should have 'Specification'\n",
        "and try to put exact numeric values for features if they exist.\n",
        "Only put the most important features in the table which matter to users.\n",
        "\n",
        "Technical specifications:\n",
        "```{fact_sheet_mobile}```\n",
        "\"\"\"\n",
        "\n",
        "response = get_completion(prompt)\n",
        "print(response)"
      ],
      "metadata": {
        "id": "A0kIyc4ZtrIU",
        "colab": {
          "base_uri": "https://localhost:8080/"
        },
        "outputId": "1463c495-5d44-4e4b-ac6a-84ef78472e87"
      },
      "execution_count": null,
      "outputs": [
        {
          "output_type": "stream",
          "name": "stdout",
          "text": [
            "Product Name: Samsung Galaxy Z Fold4 5G Black\n",
            "\n",
            "Description: The Samsung Galaxy Z Fold4 5G Black is a revolutionary foldable smartphone that combines cutting-edge technology with a sleek design. With a 6.2-inch Cover Screen and a 7.6-inch Main Screen, you can easily switch between tasks and enjoy a truly immersive viewing experience. Powered by a Qualcomm Snapdragon 8+ Gen 1 processor and 12GB of RAM, this phone offers PC-like power in the palm of your hand. The Galaxy Z Fold4 is also our toughest foldable smartphone yet, featuring Corning Gorilla Glass Victus+ and water-resistant technology.\n",
            "\n",
            "Product Specifications:\n",
            "| Feature              | Specification                  |\n",
            "|----------------------|--------------------------------|\n",
            "| OS                   | Android 12.0                   |\n",
            "| RAM                  | 12 GB                          |\n",
            "| Display Size         | 6.2-inch Cover Screen, 7.6-inch Main Screen |\n",
            "| Processor            | Qualcomm Snapdragon 8+ Gen 1   |\n",
            "| Storage              | 256GB                          |\n",
            "| Camera               | Rear and Front                  |\n",
            "| Battery              | 4400 mAh                       |\n",
            "| Special Features     | Fast Charging, Dual SIM, Wireless Charging, Water Resistant |\n",
            "| Connectivity         | Bluetooth, Wi-Fi, USB, NFC     |\n",
            "| Color                | Phantom Black                  |\n",
            "| Weight               | 263 g                          |\n"
          ]
        }
      ]
    },
    {
      "cell_type": "code",
      "source": [
        "prompt = f\"\"\"\n",
        "Act as a marketing manager.\n",
        "Your task is to help a marketing team create a\n",
        "description for a retail website advert of a product based\n",
        "on a technical fact sheet specifications for a mobile smartphone\n",
        "in triple backticks.\n",
        "\n",
        "Write a catchy product description which uses at most 60 words\n",
        "and focuses on the most important things about the smartphone\n",
        "which might matter to users like display and camera\n",
        "\n",
        "Technical specifications:\n",
        "```{fact_sheet_mobile}```\n",
        "\"\"\"\n",
        "\n",
        "response = get_completion(prompt)\n",
        "print(response)"
      ],
      "metadata": {
        "colab": {
          "base_uri": "https://localhost:8080/"
        },
        "id": "ed-Y_8IvoPUt",
        "outputId": "06bd161a-5e5e-459c-a76c-1121230ec357"
      },
      "execution_count": null,
      "outputs": [
        {
          "output_type": "stream",
          "name": "stdout",
          "text": [
            "Introducing the Samsung Galaxy Z Fold4 5G Black - the ultimate smartphone experience. Unfold the 7.6-inch Main Screen for immersive viewing. Capture stunning photos with the Under Display Camera. Enjoy PC-like power with Qualcomm Snapdragon 8+ Gen 1 processor. With water resistance and durable materials, this foldable smartphone is ready for anything. Get yours today and elevate your mobile experience.\n"
          ]
        }
      ]
    },
    {
      "cell_type": "code",
      "source": [
        "response"
      ],
      "metadata": {
        "colab": {
          "base_uri": "https://localhost:8080/",
          "height": 87
        },
        "id": "0JI7l0yjq_V3",
        "outputId": "71c8ddb5-4e5f-4dfb-fa83-756614c68c41"
      },
      "execution_count": null,
      "outputs": [
        {
          "output_type": "execute_result",
          "data": {
            "text/plain": [
              "'Introducing the Samsung Galaxy Z Fold4 5G Black - the ultimate smartphone experience. Unfold the 7.6-inch Main Screen for immersive viewing. Capture stunning photos with the Under Display Camera. Enjoy PC-like power with Qualcomm Snapdragon 8+ Gen 1 processor. With water resistance and durable materials, this foldable smartphone is ready for anything. Get yours today and elevate your mobile experience.'"
            ],
            "application/vnd.google.colaboratory.intrinsic+json": {
              "type": "string"
            }
          },
          "metadata": {},
          "execution_count": 32
        }
      ]
    },
    {
      "cell_type": "markdown",
      "source": [
        "## Exercise 4 - IT Support Resolution\n",
        "\n",
        "Ask ChatGPT to act as a customer support agent, process each customer ticket message and output the response in JSON with the following fields\n",
        "```\n",
        "orig_msg: The original customer message\n",
        "orig_lang: Detected language of the customer message e.g. Spanish\n",
        "category: 1-2 word describing the category of the problem\n",
        "trans_msg: Translated customer message in English\n",
        "response: Response to the customer in orig_lang\n",
        "trans_response: Response to the customer in English\n",
        "```\n",
        "\n",
        "Hint: Use the following prompt in a for loop\n",
        "\n",
        "```\n",
        "prompt = f\"\"\"\n",
        "            Act as a customer support agent. For the IT support message mentioned below\n",
        "            in triple backticks, create a response is JSON in the following format:\n",
        "\n",
        "            {{\n",
        "                orig_msg: The original customer message\n",
        "                orig_lang: Detected language of the customer message e.g. Spanish\n",
        "                category: 1-2 word describing the category of the problem\n",
        "                trans_msg: Translated customer message in English\n",
        "                response: Response to the customer in orig_lang\n",
        "                trans_response: Response to the customer in English\n",
        "            }}\n",
        "\n",
        "            Message:\n",
        "            '''{msg}'''\n",
        "            \"\"\"\n",
        "```"
      ],
      "metadata": {
        "id": "_VBDwjHlowmk"
      }
    },
    {
      "cell_type": "code",
      "source": [
        "it_support_queue = [\n",
        "    \"Não consigo sincronizar meus contatos com o telefone. Sempre recebo uma mensagem de falha.\",\n",
        "    \"Ho problemi a stampare i documenti da remoto. Il lavoro non viene inviato alla stampante di rete.\",\n",
        "    \"プリンターのトナーを交換しましたが、印刷品質が低下しています。サポートが必要です。\",\n",
        "    \"Я не могу войти в систему учета времени, появляется сообщение об ошибке. Мне нужна помощь.\",\n",
        "    \"Internet bağlantım çok yavaş ve bazen tamamen kesiliyor. Yardım eder misiniz?\",\n",
        "    \"Не могу установить обновление безопасности. Появляется код ошибки. Помогите, пожалуйста.\"\n",
        "]"
      ],
      "metadata": {
        "id": "ZrRFJVSMoDqa"
      },
      "execution_count": null,
      "outputs": []
    },
    {
      "cell_type": "code",
      "source": [
        "responses = []\n",
        "\n",
        "for msg in it_support_queue:\n",
        "  prompt = f\"\"\"\n",
        "            Act as a customer support agent. For the IT support message mentioned below\n",
        "            in triple backticks, create a response is JSON in the following format:\n",
        "\n",
        "            {{\n",
        "                orig_msg: The original customer message\n",
        "                orig_lang: Detected language of the customer message e.g. Spanish\n",
        "                category: 1-2 word describing the category of the problem\n",
        "                trans_msg: Translated customer message in English\n",
        "                response: Response to the customer in orig_lang\n",
        "                trans_response: Response to the customer in English\n",
        "            }}\n",
        "\n",
        "            Message:\n",
        "            '''{msg}'''\n",
        "            \"\"\"\n",
        "  response = get_completion(prompt)\n",
        "  responses.append(response)"
      ],
      "metadata": {
        "id": "LUluiGOsts0z"
      },
      "execution_count": null,
      "outputs": []
    },
    {
      "cell_type": "code",
      "source": [
        "for response in responses:\n",
        "  print(response)\n",
        "  print('-----')\n",
        "  print('\\n')"
      ],
      "metadata": {
        "id": "kjtsm77ets3h",
        "colab": {
          "base_uri": "https://localhost:8080/"
        },
        "outputId": "4d0b0364-f623-49d8-b45c-10306cc46dbf"
      },
      "execution_count": null,
      "outputs": [
        {
          "output_type": "stream",
          "name": "stdout",
          "text": [
            "{\n",
            "    orig_msg: \"Não consigo sincronizar meus contatos com o telefone. Sempre recebo uma mensagem de falha.\"\n",
            "    orig_lang: \"Portuguese\"\n",
            "    category: \"Sync Issue\"\n",
            "    trans_msg: \"I can't sync my contacts with the phone. I always get a failure message.\"\n",
            "    response: \"Olá, lamentamos o inconveniente que está enfrentando. Para resolver esse problema, recomendamos que verifique a conexão com a internet e as configurações de sincronização no seu telefone. Se o problema persistir, entre em contato conosco para obter assistência adicional.\"\n",
            "    trans_response: \"Hello, we apologize for the inconvenience you are facing. To resolve this issue, we recommend checking the internet connection and sync settings on your phone. If the problem persists, please contact us for further assistance.\"\n",
            "}\n",
            "-----\n",
            "\n",
            "\n",
            "{\n",
            "    orig_msg: \"Ho problemi a stampare i documenti da remoto. Il lavoro non viene inviato alla stampante di rete.\"\n",
            "    orig_lang: \"Italian\"\n",
            "    category: \"Printing\"\n",
            "    trans_msg: \"I am having trouble printing documents remotely. The job is not being sent to the network printer.\"\n",
            "    response: \"Grazie per averci contattato. Per risolvere il problema, ti consigliamo di controllare la connessione di rete e assicurarti che la stampante sia correttamente configurata per la stampa remota.\"\n",
            "    trans_response: \"Thank you for reaching out. To resolve the issue, we recommend checking the network connection and ensuring that the printer is properly configured for remote printing.\"\n",
            "}\n",
            "-----\n",
            "\n",
            "\n",
            "{\n",
            "    orig_msg: \"プリンターのトナーを交換しましたが、印刷品質が低下しています。サポートが必要です。\",\n",
            "    orig_lang: \"Japanese\",\n",
            "    category: \"Printer\",\n",
            "    trans_msg: \"I replaced the printer toner, but the print quality has decreased. I need support.\",\n",
            "    response: \"トナーを交換する際に、正しくセットアップされているか確認してください。また、プリンターのメンテナンスが必要かもしれません。サポートチームがお手伝いします。\",\n",
            "    trans_response: \"Please make sure it was correctly set up when replacing the toner. Also, the printer may need maintenance. Our support team will assist you.\"\n",
            "}\n",
            "-----\n",
            "\n",
            "\n",
            "{\n",
            "    orig_msg: \"Я не могу войти в систему учета времени, появляется сообщение об ошибке. Мне нужна помощь.\",\n",
            "    orig_lang: \"Russian\",\n",
            "    category: \"Login\",\n",
            "    trans_msg: \"I can't log into the time tracking system, an error message appears. I need help.\",\n",
            "    response: \"Пожалуйста, попробуйте очистить кэш браузера и попробовать снова. Если проблема не решена, пожалуйста, свяжитесь с нашей службой поддержки.\",\n",
            "    trans_response: \"Please try clearing your browser cache and trying again. If the issue persists, please contact our support team.\"\n",
            "}\n",
            "-----\n",
            "\n",
            "\n",
            "{\n",
            "    orig_msg: \"Internet bağlantım çok yavaş ve bazen tamamen kesiliyor. Yardım eder misiniz?\"\n",
            "    orig_lang: \"Turkish\"\n",
            "    category: \"Internet Connectivity\"\n",
            "    trans_msg: \"My internet connection is very slow and sometimes completely cuts off. Can you help?\"\n",
            "    response: \"Tabii, internet bağlantınızı kontrol etmek için size yardımcı olabilirim. Lütfen modeminizi ve cihazlarınızı yeniden başlatmayı deneyin.\"\n",
            "    trans_response: \"Of course, I can help you check your internet connection. Please try restarting your modem and devices.\"\n",
            "}\n",
            "-----\n",
            "\n",
            "\n",
            "{\n",
            "    orig_msg: \"Не могу установить обновление безопасности. Появляется код ошибки. Помогите, пожалуйста.\",\n",
            "    orig_lang: \"Russian\",\n",
            "    category: \"Installation\",\n",
            "    trans_msg: \"I can't install the security update. An error code appears. Please help.\",\n",
            "    response: \"Пожалуйста, попробуйте перезагрузить компьютер и повторить попытку установки обновления. Если проблема сохраняется, пожалуйста, свяжитесь с нашей службой поддержки.\",\n",
            "    trans_response: \"Please try restarting your computer and trying to install the update again. If the problem persists, please contact our support team.\"\n",
            "}\n",
            "-----\n",
            "\n",
            "\n"
          ]
        }
      ]
    }
  ]
}