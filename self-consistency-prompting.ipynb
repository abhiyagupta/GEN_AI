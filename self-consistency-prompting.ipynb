{
 "cells": [
  {
   "cell_type": "markdown",
   "id": "4118719c-46a4-4cca-be96-ff30606d94e0",
   "metadata": {},
   "source": [
    "### Self Consistency Prompting"
   ]
  },
  {
   "cell_type": "markdown",
   "id": "eaaa35cd-d404-4d57-9f7b-126a5899aa32",
   "metadata": {},
   "source": [
    "[Self-consistency Improves Chain of Thought Reasoning in Language Models](https://arxiv.org/pdf/2203.11171.pdf)"
   ]
  },
  {
   "cell_type": "markdown",
   "id": "809ba2bf-cf26-4f84-8f0d-0c3a5c22d7e2",
   "metadata": {
    "tags": []
   },
   "source": [
    "![title](self_consistency_prompting.jpg)"
   ]
  },
  {
   "cell_type": "markdown",
   "id": "770fefbd-1df5-4602-8e66-ec57fbe491f7",
   "metadata": {},
   "source": [
    "### Loading Libraries"
   ]
  },
  {
   "cell_type": "code",
   "execution_count": 1,
   "id": "f4836ee1-70fc-43ea-a9b2-5278091ffc24",
   "metadata": {
    "tags": []
   },
   "outputs": [],
   "source": [
    "# Import the os module to interact with the operating system\n",
    "import os\n",
    "\n",
    "# Import the ChatOpenAI class from the langchain_openai package\n",
    "# This class is used to interact with OpenAI's chat models\n",
    "from langchain_openai import ChatOpenAI"
   ]
  },
  {
   "cell_type": "markdown",
   "id": "8e23e4cc-112c-47e9-b327-a03a57672b54",
   "metadata": {},
   "source": [
    "### Instantiating the OpenAI model"
   ]
  },
  {
   "cell_type": "code",
   "execution_count": 2,
   "id": "7dbc6e4a-a14a-4c42-bf92-5e89078dcbf7",
   "metadata": {
    "tags": []
   },
   "outputs": [],
   "source": [
    "# Set the OPENAI_API_KEY environment variable by reading the API key from a file named 'key.txt' located in the parent directory\n",
    "os.environ[\"OPENAI_API_KEY\"] = open('../key.txt','r').read()"
   ]
  },
  {
   "cell_type": "code",
   "execution_count": 3,
   "id": "0a0d370b-0e13-4118-8bf1-5fd8363051d4",
   "metadata": {
    "tags": []
   },
   "outputs": [],
   "source": [
    "# Initialize a ChatOpenAI instance with a temperature of 0.0\n",
    "# Setting the temperature to 0.0 makes the model's output more deterministic,\n",
    "# meaning it will prioritize the most confident prediction over others.\n",
    "llm = ChatOpenAI(temperature = 0.0)"
   ]
  },
  {
   "cell_type": "markdown",
   "id": "c1c259cc-7068-4130-86ff-da7861467167",
   "metadata": {},
   "source": [
    "### Defining the Prompt Templates"
   ]
  },
  {
   "cell_type": "code",
   "execution_count": 4,
   "id": "90351640-e489-40c0-96fc-83ec5bd3624c",
   "metadata": {
    "tags": []
   },
   "outputs": [],
   "source": [
    "# Define a template for prompts that includes both system and user messages\n",
    "# This template is used to structure the input to the chat model, ensuring that both system messages (e.g., instructions or context) and user messages are included in the conversation.\n",
    "prompt_template = \"\"\"\n",
    "{system_message}\n",
    "{user_message}\"\"\""
   ]
  },
  {
   "cell_type": "code",
   "execution_count": 5,
   "id": "215b3969-c8eb-48fd-ac9b-5b20edb81aa8",
   "metadata": {
    "tags": []
   },
   "outputs": [],
   "source": [
    "# Define a system message that instructs the assistant on its role and behavior\n",
    "# This message sets the context for the assistant to answer queries on financial information without repeating the question and to focus solely on the user's query.\n",
    "system_message = \"\"\"\n",
    "You are an assistant tasked to answer queries on financial information.\n",
    "Do not repeat the question. Only answer the question presented by the user.\n",
    "\"\"\""
   ]
  },
  {
   "cell_type": "code",
   "execution_count": 6,
   "id": "130ce9ea-9e73-405b-a10c-6616abd5fa9d",
   "metadata": {
    "tags": []
   },
   "outputs": [],
   "source": [
    "# Define a template for generating answers based on a given context and question\n",
    "# This template instructs the model to use the provided context to generate a specified number of distinct answers to a given question.\n",
    "# The answers should be presented in numbered bullet points, focusing solely on the answers without additional context or explanation.\n",
    "answers_template = \"\"\"\n",
    "Context:\n",
    "{context}\n",
    "===\n",
    "Using the context above generate {num_answers} distinct answers to the following question:\n",
    "Question:\n",
    "{question}.\n",
    "\n",
    "Arrange your answers in numbered bullet points.\n",
    "Present only the answers in bullet points.\n",
    "\"\"\""
   ]
  },
  {
   "cell_type": "code",
   "execution_count": 7,
   "id": "8e62688e-95a1-4a28-9f1c-999bb63e647e",
   "metadata": {
    "tags": []
   },
   "outputs": [],
   "source": [
    "# Define a context string that provides an overview of Tesla's financial performance\n",
    "tesla_annual_report_context =\"\"\"\n",
    "In 2022, we recognized total revenues of $81.46 billion, respectively, representing an increase of $27.64 billion, compared to the prior year.\n",
    "We continue to ramp production, build new manufacturing capacity and expand our operations to enable increased deliveries and deployments of our \n",
    "products and further revenue growth.\n",
    "\"\"\""
   ]
  },
  {
   "cell_type": "code",
   "execution_count": 8,
   "id": "97955af4-3ba2-4978-a6f6-5132beeaa1bd",
   "metadata": {
    "tags": []
   },
   "outputs": [],
   "source": [
    "factual_question = \"What was the increase in annual revenue in 2022 compared to 2021?\""
   ]
  },
  {
   "cell_type": "code",
   "execution_count": 9,
   "id": "6038c71b-ac0d-488e-beed-0a708571dfc1",
   "metadata": {
    "tags": []
   },
   "outputs": [],
   "source": [
    "# Construct a prompt for the chat model by formatting the prompt template with the system message and a user message\n",
    "# The user message is generated by formatting the answers template with the Tesla annual report context, a factual question, and specifying the number of answers to generate\n",
    "# This results in a structured prompt that instructs the model to use the provided context to generate answers to a specific question, with the answers formatted as numbered \n",
    "# bullet points\n",
    "answers_prompt = prompt_template.format(\n",
    "    system_message=system_message,\n",
    "    user_message=answers_template.format(\n",
    "        context=tesla_annual_report_context,\n",
    "        question=factual_question,\n",
    "        num_answers=3\n",
    "    )\n",
    ")"
   ]
  },
  {
   "cell_type": "code",
   "execution_count": 10,
   "id": "aab8fa7d-743a-4b80-a3a8-46aefe94e45c",
   "metadata": {
    "tags": []
   },
   "outputs": [
    {
     "name": "stdout",
     "output_type": "stream",
     "text": [
      "\n",
      "\n",
      "You are an assistant tasked to answer queries on financial information.\n",
      "Do not repeat the question. Only answer the question presented by the user.\n",
      "\n",
      "\n",
      "Context:\n",
      "\n",
      "In 2022, we recognized total revenues of $81.46 billion, respectively, representing an increase of $27.64 billion, compared to the prior year.\n",
      "We continue to ramp production, build new manufacturing capacity and expand our operations to enable increased deliveries and deployments of our \n",
      "products and further revenue growth.\n",
      "\n",
      "===\n",
      "Using the context above generate 3 distinct answers to the following question:\n",
      "Question:\n",
      "What was the increase in annual revenue in 2022 compared to 2021?.\n",
      "\n",
      "Arrange your answers in numbered bullet points.\n",
      "Present only the answers in bullet points.\n",
      "\n"
     ]
    }
   ],
   "source": [
    "# printing the prompt\n",
    "print(answers_prompt)"
   ]
  },
  {
   "cell_type": "markdown",
   "id": "1dd46518-8acd-4413-b9c9-2859b8606154",
   "metadata": {},
   "source": [
    "### Generating the Answers"
   ]
  },
  {
   "cell_type": "code",
   "execution_count": 11,
   "id": "2f537255-14e9-4727-9fef-33069ee0938a",
   "metadata": {
    "tags": []
   },
   "outputs": [
    {
     "name": "stderr",
     "output_type": "stream",
     "text": [
      "/opt/conda/lib/python3.10/site-packages/langchain_core/_api/deprecation.py:117: LangChainDeprecationWarning: The function `predict` was deprecated in LangChain 0.1.7 and will be removed in 0.2.0. Use invoke instead.\n",
      "  warn_deprecated(\n"
     ]
    },
    {
     "name": "stdout",
     "output_type": "stream",
     "text": [
      "\n",
      "- The increase in annual revenue in 2022 compared to 2021 was $27.64 billion.\n",
      "- The total revenues in 2022 were $81.46 billion, representing an increase of $27.64 billion from the prior year.\n",
      "- The revenue growth in 2022 compared to 2021 was $27.64 billion.\n"
     ]
    }
   ],
   "source": [
    "# generating the answers\n",
    "print(llm.predict(answers_prompt))"
   ]
  },
  {
   "cell_type": "code",
   "execution_count": 12,
   "id": "cbb9cd67-889e-4c61-ada3-dfb86fc87a52",
   "metadata": {
    "tags": []
   },
   "outputs": [],
   "source": [
    "# storing the above answers in a variable for further prompting\n",
    "factual_answers = llm.predict(answers_prompt)"
   ]
  },
  {
   "cell_type": "markdown",
   "id": "b58c3048-734c-41e8-b80b-667d5a9c2c88",
   "metadata": {},
   "source": [
    "### Defining Self Consistency Prompt Template"
   ]
  },
  {
   "cell_type": "code",
   "execution_count": 13,
   "id": "8bf075e4-ee3f-4c02-9699-8dffe2db7e92",
   "metadata": {
    "tags": []
   },
   "outputs": [],
   "source": [
    "# Define a template for evaluating the consistency of generated answers\n",
    "# This template is designed to present a set number of answers to a specific question,\n",
    "# instructing the evaluator to identify the most frequently occurring answer among the provided options.\n",
    "# The final answer should be presented in a clear and concise format, focusing solely on the most common solution.\n",
    "consistency_template = \"\"\"\n",
    "Here are {num_answers} answers to the question mentioned below:\n",
    "Question:\n",
    "{question}\n",
    "Answers:\n",
    "{answers}\n",
    "\n",
    "Observe the answers mentioned above and choose the answer that occurs most.\n",
    "Present only the most frequent solution in the following format.\n",
    "Final Answer:\n",
    "\"\"\""
   ]
  },
  {
   "cell_type": "code",
   "execution_count": 14,
   "id": "77da0635-afa2-4fa1-91a6-537c8ffe92a3",
   "metadata": {
    "tags": []
   },
   "outputs": [],
   "source": [
    "# Construct a prompt for evaluating the consistency of generated answers by formatting the prompt template with the system message and a user message\n",
    "# The user message is generated by formatting the consistency template with the number of answers, the factual question, and the factual answers provided\n",
    "# This results in a structured prompt that instructs the model to present a set number of answers to a specific question and then choose the most frequent answer among them\n",
    "consistency_prompt = prompt_template.format(\n",
    "    system_message=system_message,\n",
    "    user_message=consistency_template.format(\n",
    "        num_answers=3,\n",
    "        question=factual_question,\n",
    "        answers=factual_answers\n",
    "    )\n",
    ")"
   ]
  },
  {
   "cell_type": "code",
   "execution_count": 15,
   "id": "be95b633-d541-4762-b5ac-390b7a769a61",
   "metadata": {
    "tags": []
   },
   "outputs": [
    {
     "name": "stdout",
     "output_type": "stream",
     "text": [
      "\n",
      "\n",
      "You are an assistant tasked to answer queries on financial information.\n",
      "Do not repeat the question. Only answer the question presented by the user.\n",
      "\n",
      "\n",
      "Here are 3 answers to the question mentioned below:\n",
      "Question:\n",
      "What was the increase in annual revenue in 2022 compared to 2021?\n",
      "Answers:\n",
      "\n",
      "- The increase in annual revenue in 2022 compared to 2021 was $27.64 billion.\n",
      "- The total revenues in 2022 were $81.46 billion, reflecting a $27.64 billion increase from the prior year.\n",
      "- The revenue growth in 2022 compared to 2021 was $27.64 billion.\n",
      "\n",
      "Observe the answers mentioned above and choose the answer that occurs most.\n",
      "Present only the most frequent solution in the following format.\n",
      "Final Answer:\n",
      "\n"
     ]
    }
   ],
   "source": [
    "# printing the consistency prompt\n",
    "print(consistency_prompt)"
   ]
  },
  {
   "cell_type": "markdown",
   "id": "328f40b8-9014-4b43-a2eb-2513dbdae906",
   "metadata": {},
   "source": [
    "### Generating Final Answer"
   ]
  },
  {
   "cell_type": "code",
   "execution_count": 16,
   "id": "423e7822-a356-4560-8b2f-1c2e3ad3b394",
   "metadata": {
    "tags": []
   },
   "outputs": [
    {
     "data": {
      "text/plain": [
       "'The increase in annual revenue in 2022 compared to 2021 was $27.64 billion.'"
      ]
     },
     "execution_count": 16,
     "metadata": {},
     "output_type": "execute_result"
    }
   ],
   "source": [
    "# generating the final answer\n",
    "llm.predict(consistency_prompt)"
   ]
  },
  {
   "cell_type": "code",
   "execution_count": null,
   "id": "037f9258-2206-412f-a907-66250723d8df",
   "metadata": {},
   "outputs": [],
   "source": []
  }
 ],
 "metadata": {
  "environment": {
   "kernel": "python3",
   "name": ".m119",
   "type": "gcloud",
   "uri": "us-docker.pkg.dev/deeplearning-platform-release/gcr.io/:m119"
  },
  "kernelspec": {
   "display_name": "Python 3",
   "language": "python",
   "name": "python3"
  },
  "language_info": {
   "codemirror_mode": {
    "name": "ipython",
    "version": 3
   },
   "file_extension": ".py",
   "mimetype": "text/x-python",
   "name": "python",
   "nbconvert_exporter": "python",
   "pygments_lexer": "ipython3",
   "version": "3.10.14"
  }
 },
 "nbformat": 4,
 "nbformat_minor": 5
}
